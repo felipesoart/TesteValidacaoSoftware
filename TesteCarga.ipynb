{
 "cells": [
  {
   "cell_type": "code",
   "execution_count": 1,
   "metadata": {},
   "outputs": [],
   "source": [
    "import psycopg2\n",
    "import time"
   ]
  },
  {
   "cell_type": "code",
   "execution_count": 2,
   "metadata": {},
   "outputs": [],
   "source": [
    "host = 'localhost'\n",
    "port = '5432'\n",
    "database = 'unifametro'\n",
    "user = 'postgres'\n",
    "password = '123456'\n",
    "\n",
    "def execute_query(query):\n",
    "    conn = psycopg2.connect(host=host, port=port, database=database, user=user, password=password)\n",
    "\n",
    "    cursor = conn.cursor()\n",
    "    cursor.execute(query)\n",
    "    result = cursor.fetchall()\n",
    "    cursor.close()\n",
    "    conn.close()\n",
    "    return result"
   ]
  },
  {
   "cell_type": "code",
   "execution_count": 3,
   "metadata": {},
   "outputs": [],
   "source": [
    "def perform_load_test(num_queries):\n",
    "    start_time = time.time()\n",
    "    for i in range(num_queries):\n",
    "        query = \"SELECT * FROM tabela_exemplo;\"\n",
    "        result = execute_query(query)\n",
    "        #print(f\"Consulta {i + 1}: {result}\")\n",
    "\n",
    "\n",
    "    end_time = time.time()\n",
    "    elapse_time = end_time - start_time\n",
    "    print(f\"\\n Tempo total de execução: {elapse_time} seundos\")\n",
    "    print(f\"\\n Tempo médio por consulta: {elapse_time/num_queries} segundos\")"
   ]
  },
  {
   "cell_type": "code",
   "execution_count": 8,
   "metadata": {},
   "outputs": [
    {
     "name": "stdout",
     "output_type": "stream",
     "text": [
      "\n",
      " Tempo total de execução: 421.2009415626526 seundos\n",
      "\n",
      " Tempo médio por consulta: 0.08424018831253052 segundos\n"
     ]
    }
   ],
   "source": [
    "perform_load_test(5000)"
   ]
  },
  {
   "cell_type": "code",
   "execution_count": null,
   "metadata": {},
   "outputs": [],
   "source": [
    "#JOAO PAULO FELIPE SOBRINHO DE SOUZA\n",
    "\n",
    "#Teste 1\n",
    "\n",
    "#Relatório de Teste de Carga\n",
    "#Data do Teste: 2024-03-16\n",
    "#Duração do Teste: 0.9756710529327393 seundos\n",
    "#Ambiente de Teste: Ambiente local\n",
    "\n",
    "#Resumo do Teste\n",
    "#Número total de consultas: 10\n",
    "#Tempo de Execução: 0.9756710529327393 seundos\n",
    "#Tempo médio de Execução: 0.09756710529327392 segundos\n",
    "#Observações Gerais: consultou todos os 10 registro no banco\n",
    "\n",
    "#Teste 2\n",
    "\n",
    "#Relatório de Teste de Carga\n",
    "#Data do Teste: 2024-03-16\n",
    "#Duração do Teste: 7.904534578323364 seundos\n",
    "#Ambiente de Teste: Ambiente local\n",
    "\n",
    "#Resumo do Teste\n",
    "#Número total de consultas: 100\n",
    "#Tempo de Execução: 7.904534578323364 seundos\n",
    "#Tempo médio de Execução: 0.07904534578323365 segundos\n",
    "#Observações Gerais: consultou todos os 100 registro no banco, com um tempo de Execução 10x mais em relação ao teste 1, o Tempo médio de Execução  é bem proximo a consulta anterior\n",
    "\n",
    "#Teste 3\n",
    "\n",
    "#Relatório de Teste de Carga\n",
    "#Data do Teste: 2024-03-16\n",
    "#Duração do Teste: 73.64720630645752 seundos\n",
    "#Ambiente de Teste: Ambiente local\n",
    "\n",
    "#Resumo do Teste\n",
    "#Número total de consultas: 1000\n",
    "#Tempo de Execução: 73.64720630645752 seundos\n",
    "#Tempo médio de Execução: 0.07364720630645752 segundos\n",
    "#Observações Gerais: consultou todos os 1000 registro no banco, com um tempo de Execução 10x mais em relação ao teste 2, o Tempo médio de Execução  é bem proximo a consulta anterior\n",
    "\n",
    "#Teste 4\n",
    "\n",
    "#Relatório de Teste de Carga\n",
    "#Data do Teste: 2024-03-16\n",
    "#Duração do Teste: 218.56537866592407 seundos\n",
    "#Ambiente de Teste: Ambiente local\n",
    "\n",
    "#Resumo do Teste\n",
    "#Número total de consultas: 3000\n",
    "#Tempo de Execução: 218.56537866592407 seundos\n",
    "#Tempo médio de Execução: 0.0728551262219747 segundos\n",
    "#Observações Gerais: consultou todos os 3000 registro no banco, com um tempo de Execução 3x mais em relação ao teste 3, o Tempo médio de Execução  é bem proximo a consulta anterior\n",
    "\n",
    "#Teste 5\n",
    "\n",
    "#Relatório de Teste de Carga\n",
    "#Data do Teste: 2024-03-16\n",
    "#Duração do Teste: 421.2009415626526 seundos\n",
    "#Ambiente de Teste: Ambiente local\n",
    "\n",
    "#Resumo do Teste\n",
    "#Número total de consultas: 5000\n",
    "#Tempo de Execução: 421.2009415626526 seundos\n",
    "#Tempo médio de Execução: 0.08424018831253052 segundos\n",
    "#Observações Gerais: consultou todos os 5000 registro no banco, com um tempo de Execução 5x mais em relação ao teste 3, o Tempo médio de Execução  é bem proximo a consulta anterior"
   ]
  }
 ],
 "metadata": {
  "kernelspec": {
   "display_name": "digital",
   "language": "python",
   "name": "python3"
  },
  "language_info": {
   "codemirror_mode": {
    "name": "ipython",
    "version": 3
   },
   "file_extension": ".py",
   "mimetype": "text/x-python",
   "name": "python",
   "nbconvert_exporter": "python",
   "pygments_lexer": "ipython3",
   "version": "3.9.13"
  }
 },
 "nbformat": 4,
 "nbformat_minor": 2
}
