{
 "cells": [
  {
   "cell_type": "code",
   "execution_count": 3,
   "metadata": {},
   "outputs": [],
   "source": [
    "import psycopg2\n",
    "import random\n",
    "import string\n",
    "import time\n",
    "\n",
    "# Configurações de conexão ao banco de dados\n",
    "host = 'localhost'\n",
    "port = '5432'\n",
    "database = 'unifametro'\n",
    "user = 'postgres'\n",
    "password = '123456'"
   ]
  },
  {
   "cell_type": "code",
   "execution_count": 2,
   "metadata": {},
   "outputs": [
    {
     "name": "stdout",
     "output_type": "stream",
     "text": [
      "Defaulting to user installation because normal site-packages is not writeable\n",
      "Collecting psycopg2\n",
      "  Downloading psycopg2-2.9.9-cp39-cp39-win_amd64.whl (1.2 MB)\n",
      "     ---------------------------------------- 1.2/1.2 MB 18.5 MB/s eta 0:00:00\n",
      "Installing collected packages: psycopg2\n",
      "Successfully installed psycopg2-2.9.9\n"
     ]
    }
   ],
   "source": [
    "!pip install psycopg2"
   ]
  },
  {
   "cell_type": "code",
   "execution_count": 4,
   "metadata": {},
   "outputs": [],
   "source": [
    "# Função para gerar uma string aleatória\n",
    "def generate_random_string(length):\n",
    "    letters = string.ascii_letters\n",
    "    return ''.join(random.choice(letters) for i in range(length))\n",
    "\n",
    "def execute_query(query):\n",
    "    conn = psycopg2.connect(host=host, port=port, \n",
    "                            database=database, user=user, password=password)\n",
    "    cursor = conn.cursor()\n",
    "    cursor.execute(query)\n",
    "    conn.commit()\n",
    "    cursor.close()\n",
    "    conn.close()\n",
    "\n",
    "\n",
    "# Função para executar uma consulta no banco de dados\n",
    "def read_query(query):\n",
    "    conn = psycopg2.connect(host=host, port=port, \n",
    "                            database=database, user=user, password=password)\n",
    "    cursor = conn.cursor()\n",
    "    cursor.execute(query)\n",
    "    result = cursor.fetchall()\n",
    "    cursor.close()\n",
    "    conn.close()\n",
    "    return result"
   ]
  },
  {
   "attachments": {},
   "cell_type": "markdown",
   "metadata": {},
   "source": [
    "CREATE TABLE IF NOT EXISTS public.tabela_exemplo\n",
    "                            (\n",
    "                                id SERIAL,\n",
    "                                dados text,\n",
    "                                CONSTRAINT tabela_exemplo_pkey PRIMARY KEY (id)\n",
    "                            );"
   ]
  },
  {
   "cell_type": "code",
   "execution_count": 5,
   "metadata": {},
   "outputs": [],
   "source": [
    "# Função para realizar o teste de volume\n",
    "def perform_volume_test(num_records): \n",
    "\n",
    "    # Inserção de registros\n",
    "    for i in range(num_records):\n",
    "        dados = generate_random_string(10)\n",
    "        insert_query = f\"INSERT INTO tabela_exemplo (dados) VALUES ('{dados}');\"\n",
    "        execute_query(insert_query)\n",
    "\n",
    "    # Contagem dos registros\n",
    "    count_query = \"SELECT COUNT(*) FROM tabela_exemplo;\"\n",
    "    result = read_query(count_query)\n",
    "    count = result[0][0]\n",
    "    print(f\"Número total de registros: {count}\")"
   ]
  },
  {
   "cell_type": "code",
   "execution_count": 10,
   "metadata": {},
   "outputs": [
    {
     "name": "stdout",
     "output_type": "stream",
     "text": [
      "Número total de registros: 16110\n",
      "Tempo de execução: 448.5697844028473 segundos\n"
     ]
    }
   ],
   "source": [
    "# Executa o teste de volume com 1000 registros\n",
    "start_time = time.time()\n",
    "perform_volume_test(5000)\n",
    "end_time = time.time()\n",
    "elapsed_time = end_time - start_time\n",
    "print(f\"Tempo de execução: {elapsed_time} segundos\")"
   ]
  },
  {
   "cell_type": "code",
   "execution_count": null,
   "metadata": {},
   "outputs": [],
   "source": [
    "#JOAO PAULO FELIPE SOBRINHO DE SOUZA\n",
    "\n",
    "#Teste 1\n",
    "\n",
    "#Relatório de Teste de Volume\n",
    "#Data do Teste: 2024-03-16\n",
    "#Duração do Teste: 0.8985209465026855 segundos\n",
    "#Ambiente de Teste: Ambiente local\n",
    "\n",
    "#Resumo do Teste\n",
    "#Número total de registros: 10\n",
    "#Tempo de Execução: 0.8985209465026855 segundos\n",
    "#Observações Gerais: registro todos os 10 registro no banco com id = números sequenciais e dados = caracter aliatorios\n",
    "\n",
    "#Teste 2\n",
    "\n",
    "#Relatório de Teste de Volume\n",
    "#Data do Teste: 2024-03-16\n",
    "#Duração do Teste:  8.103778600692749 segundos\n",
    "#Ambiente de Teste: Ambiente local\n",
    "\n",
    "#Resumo do Teste\n",
    "#Número total de registros: 100\n",
    "#Tempo de Execução: 8.103778600692749 segundos\n",
    "#Observações Gerais: registro todos os 100 registro no banco com id = números sequenciais e dados = caracter aliatorios com um tempo de 10x mais em relação ao teste 1\n",
    "\n",
    "#Teste 3 \n",
    "\n",
    "#Relatório de Teste de Volume\n",
    "#Data do Teste: 2024-03-16\n",
    "#Duração do Teste: 72.67815399169922 segundos\n",
    "#Ambiente de Teste: Ambiente local\n",
    "\n",
    "#Resumo do Teste\n",
    "#Número total de registros: 1000\n",
    "#Tempo de Execução: 72.67815399169922 segundos\n",
    "#Observações Gerais: registro todos os 1000 registro no banco com id = números sequenciais e dados = caracter aliatorios com um tempo de 10x mais em relação ao teste 2\n",
    "\n",
    "#Teste 4 \n",
    "\n",
    "#Relatório de Teste de Volume\n",
    "#Data do Teste: 2024-03-16\n",
    "#Duração do Teste: 805.4891576766968 segundos\n",
    "#Ambiente de Teste: Ambiente local\n",
    "\n",
    "#Resumo do Teste\n",
    "#Número total de registros: 10000\n",
    "#Tempo de Execução: 805.4891576766968 segundos\n",
    "#Observações Gerais: registro todos os 10000 registro no banco com id = números sequenciais e dados = caracter aliatorios com um tempo de 10x mais em relação ao teste 3\n",
    "\n",
    "#Teste 5 \n",
    "\n",
    "#Relatório de Teste de Volume\n",
    "#Data do Teste: 2024-03-16\n",
    "#Duração do Teste: 448.5697844028473 segundos\n",
    "#Ambiente de Teste: Ambiente local\n",
    "\n",
    "#Resumo do Teste\n",
    "#Número total de registros: 5000\n",
    "#Tempo de Execução: 448.5697844028473 segundos\n",
    "#Observações Gerais: registro todos os 5000 registro no banco com id = números sequenciais e dados = caracter aliatorios com um tempo de 5x mais em relação ao teste 3"
   ]
  },
  {
   "attachments": {},
   "cell_type": "markdown",
   "metadata": {},
   "source": [
    "Relatório de Teste de Volume\n",
    "Data do Teste: [Data do teste]\n",
    "Duração do Teste: [Duração total do teste]\n",
    "Ambiente de Teste: [Descrição do ambiente de teste]\n",
    "\n",
    "Resumo do Teste\n",
    "\n",
    "Número total de registros: [Número total de registros]\n",
    "Tempo de execução: [Tempo médio de inserção por registro]\n",
    "Observações Gerais: [Observações adicionais relevantes]"
   ]
  }
 ],
 "metadata": {
  "kernelspec": {
   "display_name": "base",
   "language": "python",
   "name": "python3"
  },
  "language_info": {
   "codemirror_mode": {
    "name": "ipython",
    "version": 3
   },
   "file_extension": ".py",
   "mimetype": "text/x-python",
   "name": "python",
   "nbconvert_exporter": "python",
   "pygments_lexer": "ipython3",
   "version": "3.9.13"
  },
  "orig_nbformat": 4
 },
 "nbformat": 4,
 "nbformat_minor": 2
}
